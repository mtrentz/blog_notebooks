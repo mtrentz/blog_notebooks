{
  "nbformat": 4,
  "nbformat_minor": 0,
  "metadata": {
    "colab": {
      "name": "Motivação Pandas.ipynb",
      "provenance": [],
      "collapsed_sections": []
    },
    "kernelspec": {
      "name": "python3",
      "display_name": "Python 3"
    }
  },
  "cells": [
    {
      "cell_type": "markdown",
      "metadata": {
        "id": "QsmsYN1FuGSK",
        "colab_type": "text"
      },
      "source": [
        "# Motivação para aprender Python: Ciência de Dados\n",
        " - Utilizando a biblioteca Pandas para alterar e analisar datasets"
      ]
    },
    {
      "cell_type": "markdown",
      "metadata": {
        "id": "0B3rXaOBuZqk",
        "colab_type": "text"
      },
      "source": [
        "## Carregando o dataset"
      ]
    },
    {
      "cell_type": "code",
      "metadata": {
        "id": "wY3YnHtcmS6r",
        "colab_type": "code",
        "colab": {}
      },
      "source": [
        "# Importando a biblioteca que vamos utilizar\n",
        "import pandas as pd"
      ],
      "execution_count": null,
      "outputs": []
    },
    {
      "cell_type": "markdown",
      "metadata": {
        "id": "ZjcQgAl7utZj",
        "colab_type": "text"
      },
      "source": [
        "Nesse exemplo será utilizado uma base de dados do governo sobre a extração de produtos florestais.\n",
        "\n",
        "O download do banco é feito [daqui](http://dados.gov.br/dataset/sistema-nacional-de-informacoes-florestais-snif/resource/b0a31254-ad8a-423b-bf2e-5ad9ab621844)\n",
        "\n",
        "A descrição de cada coluna (metadados) está [neste link](http://homolog-dados.mma.gov.br/pt_BR/dataset/ffd9ab35-5719-4ec1-8d13-ae8f738bebc2/resource/8171a927-2604-4fe0-8330-468605353d01/download/extracao-de-produtos-florestais-madeireiros-dicionario-de-dados.pdf)\n",
        "\n"
      ]
    },
    {
      "cell_type": "code",
      "metadata": {
        "id": "QgAA6-zumX7H",
        "colab_type": "code",
        "colab": {}
      },
      "source": [
        "# URL direto para os dados em formato de csv\n",
        "dataset_url = \"http://homolog-dados.mma.gov.br/pt_BR/dataset/ffd9ab35-5719-4ec1-8d13-ae8f738bebc2/resource/b0a31254-ad8a-423b-bf2e-5ad9ab621844/download/extracao_pfm_1994-2016.csv\"\n",
        "# Criando o nosso dataframe, que é essencialmente a nossa tabela\n",
        "df = pd.read_csv(dataset_url, encoding='latin1', sep=';')"
      ],
      "execution_count": null,
      "outputs": []
    },
    {
      "cell_type": "code",
      "metadata": {
        "id": "Rn_5Zu2Nt5ok",
        "colab_type": "code",
        "colab": {
          "base_uri": "https://localhost:8080/",
          "height": 223
        },
        "outputId": "fd6a96d8-6102-4ee5-db92-7bc9ffe09a20"
      },
      "source": [
        "# Mostrando todas as colunas e as primeiras linhas de nosso dataset\n",
        "df.head()"
      ],
      "execution_count": null,
      "outputs": [
        {
          "output_type": "execute_result",
          "data": {
            "text/html": [
              "<div>\n",
              "<style scoped>\n",
              "    .dataframe tbody tr th:only-of-type {\n",
              "        vertical-align: middle;\n",
              "    }\n",
              "\n",
              "    .dataframe tbody tr th {\n",
              "        vertical-align: top;\n",
              "    }\n",
              "\n",
              "    .dataframe thead th {\n",
              "        text-align: right;\n",
              "    }\n",
              "</style>\n",
              "<table border=\"1\" class=\"dataframe\">\n",
              "  <thead>\n",
              "    <tr style=\"text-align: right;\">\n",
              "      <th></th>\n",
              "      <th>Tipo de produto florestal</th>\n",
              "      <th>Tipo de Floresta</th>\n",
              "      <th>Tipo de Uso</th>\n",
              "      <th>Tipo de produto extrativo (com código)</th>\n",
              "      <th>Tipo de produto extrativo</th>\n",
              "      <th>Unidade de Medida PEVS</th>\n",
              "      <th>Unidade de Medida transformada</th>\n",
              "      <th>Ano_PEVS</th>\n",
              "      <th>Quantidade PEVS</th>\n",
              "      <th>Quantidade transformada</th>\n",
              "      <th>Valor (mil reais)</th>\n",
              "    </tr>\n",
              "  </thead>\n",
              "  <tbody>\n",
              "    <tr>\n",
              "      <th>0</th>\n",
              "      <td>PFNM</td>\n",
              "      <td>Floresta Natural</td>\n",
              "      <td>Alimentícios</td>\n",
              "      <td>1.1 - Açaí (fruto) (Toneladas)</td>\n",
              "      <td>Açaí (fruto)</td>\n",
              "      <td>Toneladas</td>\n",
              "      <td>Toneladas</td>\n",
              "      <td>1994</td>\n",
              "      <td>98857.0</td>\n",
              "      <td>98857.0</td>\n",
              "      <td>46312.0</td>\n",
              "    </tr>\n",
              "    <tr>\n",
              "      <th>1</th>\n",
              "      <td>PFNM</td>\n",
              "      <td>Floresta Natural</td>\n",
              "      <td>Alimentícios</td>\n",
              "      <td>1.1 - Açaí (fruto) (Toneladas)</td>\n",
              "      <td>Açaí (fruto)</td>\n",
              "      <td>Toneladas</td>\n",
              "      <td>Toneladas</td>\n",
              "      <td>1995</td>\n",
              "      <td>108922.0</td>\n",
              "      <td>108922.0</td>\n",
              "      <td>35075.0</td>\n",
              "    </tr>\n",
              "    <tr>\n",
              "      <th>2</th>\n",
              "      <td>PFNM</td>\n",
              "      <td>Floresta Natural</td>\n",
              "      <td>Alimentícios</td>\n",
              "      <td>1.1 - Açaí (fruto) (Toneladas)</td>\n",
              "      <td>Açaí (fruto)</td>\n",
              "      <td>Toneladas</td>\n",
              "      <td>Toneladas</td>\n",
              "      <td>1996</td>\n",
              "      <td>111438.0</td>\n",
              "      <td>111438.0</td>\n",
              "      <td>51801.0</td>\n",
              "    </tr>\n",
              "    <tr>\n",
              "      <th>3</th>\n",
              "      <td>PFNM</td>\n",
              "      <td>Floresta Natural</td>\n",
              "      <td>Alimentícios</td>\n",
              "      <td>1.1 - Açaí (fruto) (Toneladas)</td>\n",
              "      <td>Açaí (fruto)</td>\n",
              "      <td>Toneladas</td>\n",
              "      <td>Toneladas</td>\n",
              "      <td>1997</td>\n",
              "      <td>100214.0</td>\n",
              "      <td>100214.0</td>\n",
              "      <td>35690.0</td>\n",
              "    </tr>\n",
              "    <tr>\n",
              "      <th>4</th>\n",
              "      <td>PFNM</td>\n",
              "      <td>Floresta Natural</td>\n",
              "      <td>Alimentícios</td>\n",
              "      <td>1.1 - Açaí (fruto) (Toneladas)</td>\n",
              "      <td>Açaí (fruto)</td>\n",
              "      <td>Toneladas</td>\n",
              "      <td>Toneladas</td>\n",
              "      <td>1998</td>\n",
              "      <td>119074.0</td>\n",
              "      <td>119074.0</td>\n",
              "      <td>48685.0</td>\n",
              "    </tr>\n",
              "  </tbody>\n",
              "</table>\n",
              "</div>"
            ],
            "text/plain": [
              "  Tipo de produto florestal  ... Valor (mil reais)\n",
              "0                      PFNM  ...           46312.0\n",
              "1                      PFNM  ...           35075.0\n",
              "2                      PFNM  ...           51801.0\n",
              "3                      PFNM  ...           35690.0\n",
              "4                      PFNM  ...           48685.0\n",
              "\n",
              "[5 rows x 11 columns]"
            ]
          },
          "metadata": {
            "tags": []
          },
          "execution_count": 3
        }
      ]
    },
    {
      "cell_type": "code",
      "metadata": {
        "id": "Cy0izyBtxPAh",
        "colab_type": "code",
        "colab": {
          "base_uri": "https://localhost:8080/",
          "height": 36
        },
        "outputId": "151a7477-2689-4ca4-c482-df43b7edd90b"
      },
      "source": [
        "# É sempre interessante saber quão grande é o nosso banco de dados. Aqui vemos que ele tem 1472 linhas e 11 colunas.\n",
        "df.shape"
      ],
      "execution_count": null,
      "outputs": [
        {
          "output_type": "execute_result",
          "data": {
            "text/plain": [
              "(1472, 11)"
            ]
          },
          "metadata": {
            "tags": []
          },
          "execution_count": 4
        }
      ]
    },
    {
      "cell_type": "markdown",
      "metadata": {
        "id": "pqoq5XJBv03k",
        "colab_type": "text"
      },
      "source": [
        "## Explorando algumas colunas"
      ]
    },
    {
      "cell_type": "code",
      "metadata": {
        "id": "MLgc4KQluAT-",
        "colab_type": "code",
        "colab": {
          "base_uri": "https://localhost:8080/",
          "height": 73
        },
        "outputId": "f73f5bdd-74f6-44ed-9831-dad41b8dcb40"
      },
      "source": [
        "# Segundo os metadados, na segunda coluna consta se os dados foram obtidos de florestas naturais ou plantadas, podemos explorar a distribuição dessa classificação!\n",
        "df['Tipo de Floresta'].value_counts()"
      ],
      "execution_count": null,
      "outputs": [
        {
          "output_type": "execute_result",
          "data": {
            "text/plain": [
              "Floresta Natural     1012\n",
              "Floresta Plantada     460\n",
              "Name: Tipo de Floresta, dtype: int64"
            ]
          },
          "metadata": {
            "tags": []
          },
          "execution_count": 5
        }
      ]
    },
    {
      "cell_type": "code",
      "metadata": {
        "id": "Yc_ScsB5v3mM",
        "colab_type": "code",
        "colab": {
          "base_uri": "https://localhost:8080/",
          "height": 335
        },
        "outputId": "68dea413-7103-469c-8935-ba0052e867d5"
      },
      "source": [
        "# Fazendo o mesmo procedimento para a terceira coluna, na qual consta a finalidade do produto\n",
        "df['Tipo de Uso'].value_counts()"
      ],
      "execution_count": null,
      "outputs": [
        {
          "output_type": "execute_result",
          "data": {
            "text/plain": [
              "Alimentícios                                  230\n",
              "Oleaginosos                                   184\n",
              "Madeira para Combustível - Subdivisão         138\n",
              "Madeira para Indústria - Subdivisão II        138\n",
              "Fibras                                         92\n",
              "Aromáticos, medicinais, tóxicos e corantes     92\n",
              "Madeira para Combustível                       92\n",
              "Madeira para Indústria - subdivisão            69\n",
              "Borrachas                                      69\n",
              "Ceras                                          69\n",
              "Gomas não elásticas                            69\n",
              "Tanantes                                       69\n",
              "Outros produtos da silvicultura                69\n",
              "Madeira para Indústria                         46\n",
              "Nó de pinho                                    23\n",
              "Árvores abatidas                               23\n",
              "Name: Tipo de Uso, dtype: int64"
            ]
          },
          "metadata": {
            "tags": []
          },
          "execution_count": 6
        }
      ]
    },
    {
      "cell_type": "code",
      "metadata": {
        "id": "2rZcyeCxw9iH",
        "colab_type": "code",
        "colab": {
          "base_uri": "https://localhost:8080/",
          "height": 488
        },
        "outputId": "84b6d76b-853d-4be9-ca99-149ab18cac50"
      },
      "source": [
        "# Podemos mostrar isso de forma gráfica\n",
        "df['Tipo de Uso'].value_counts().plot(kind='bar')"
      ],
      "execution_count": null,
      "outputs": [
        {
          "output_type": "execute_result",
          "data": {
            "text/plain": [
              "<matplotlib.axes._subplots.AxesSubplot at 0x7f0f19edcf98>"
            ]
          },
          "metadata": {
            "tags": []
          },
          "execution_count": 7
        },
        {
          "output_type": "display_data",
          "data": {
            "image/png": "[encoded data removed]",
            "text/plain": [
              "<Figure size 432x288 with 1 Axes>"
            ]
          },
          "metadata": {
            "tags": [],
            "needs_background": "light"
          }
        }
      ]
    },
    {
      "cell_type": "code",
      "metadata": {
        "id": "ywXiWYQIxpGn",
        "colab_type": "code",
        "colab": {
          "base_uri": "https://localhost:8080/",
          "height": 300
        },
        "outputId": "534777d6-e451-43b5-fe51-6f612e808762"
      },
      "source": [
        "# Quando trabalhamos com colunas numéricas algo bom e rápido de se fazer é pedir a descrição das colunas\n",
        "# Porém CUIDADO: Muitos datasets apresentam colunas numericas como 'ID' ou coisas do gênero no qual valores como média e desvio não fazem sentido para a analise.\n",
        "# No nosso caso conseguimos extrair algumas boas informações desse unico comando\n",
        "df.describe()"
      ],
      "execution_count": null,
      "outputs": [
        {
          "output_type": "execute_result",
          "data": {
            "text/html": [
              "<div>\n",
              "<style scoped>\n",
              "    .dataframe tbody tr th:only-of-type {\n",
              "        vertical-align: middle;\n",
              "    }\n",
              "\n",
              "    .dataframe tbody tr th {\n",
              "        vertical-align: top;\n",
              "    }\n",
              "\n",
              "    .dataframe thead th {\n",
              "        text-align: right;\n",
              "    }\n",
              "</style>\n",
              "<table border=\"1\" class=\"dataframe\">\n",
              "  <thead>\n",
              "    <tr style=\"text-align: right;\">\n",
              "      <th></th>\n",
              "      <th>Ano_PEVS</th>\n",
              "      <th>Quantidade PEVS</th>\n",
              "      <th>Quantidade transformada</th>\n",
              "      <th>Valor (mil reais)</th>\n",
              "    </tr>\n",
              "  </thead>\n",
              "  <tbody>\n",
              "    <tr>\n",
              "      <th>count</th>\n",
              "      <td>1472.000000</td>\n",
              "      <td>1.469000e+03</td>\n",
              "      <td>1.469000e+03</td>\n",
              "      <td>1.467000e+03</td>\n",
              "    </tr>\n",
              "    <tr>\n",
              "      <th>mean</th>\n",
              "      <td>2005.000000</td>\n",
              "      <td>5.394295e+06</td>\n",
              "      <td>6.056780e+06</td>\n",
              "      <td>2.762581e+05</td>\n",
              "    </tr>\n",
              "    <tr>\n",
              "      <th>std</th>\n",
              "      <td>6.635504</td>\n",
              "      <td>1.758627e+07</td>\n",
              "      <td>1.797219e+07</td>\n",
              "      <td>9.631044e+05</td>\n",
              "    </tr>\n",
              "    <tr>\n",
              "      <th>min</th>\n",
              "      <td>1994.000000</td>\n",
              "      <td>0.000000e+00</td>\n",
              "      <td>0.000000e+00</td>\n",
              "      <td>0.000000e+00</td>\n",
              "    </tr>\n",
              "    <tr>\n",
              "      <th>25%</th>\n",
              "      <td>1999.000000</td>\n",
              "      <td>2.000000e+00</td>\n",
              "      <td>2.000000e+00</td>\n",
              "      <td>0.000000e+00</td>\n",
              "    </tr>\n",
              "    <tr>\n",
              "      <th>50%</th>\n",
              "      <td>2005.000000</td>\n",
              "      <td>1.146000e+03</td>\n",
              "      <td>1.146000e+03</td>\n",
              "      <td>9.540000e+02</td>\n",
              "    </tr>\n",
              "    <tr>\n",
              "      <th>75%</th>\n",
              "      <td>2011.000000</td>\n",
              "      <td>7.161900e+04</td>\n",
              "      <td>7.816700e+04</td>\n",
              "      <td>2.843050e+04</td>\n",
              "    </tr>\n",
              "    <tr>\n",
              "      <th>max</th>\n",
              "      <td>2016.000000</td>\n",
              "      <td>1.336508e+08</td>\n",
              "      <td>1.336508e+08</td>\n",
              "      <td>1.025586e+07</td>\n",
              "    </tr>\n",
              "  </tbody>\n",
              "</table>\n",
              "</div>"
            ],
            "text/plain": [
              "          Ano_PEVS  Quantidade PEVS  Quantidade transformada  Valor (mil reais)\n",
              "count  1472.000000     1.469000e+03             1.469000e+03       1.467000e+03\n",
              "mean   2005.000000     5.394295e+06             6.056780e+06       2.762581e+05\n",
              "std       6.635504     1.758627e+07             1.797219e+07       9.631044e+05\n",
              "min    1994.000000     0.000000e+00             0.000000e+00       0.000000e+00\n",
              "25%    1999.000000     2.000000e+00             2.000000e+00       0.000000e+00\n",
              "50%    2005.000000     1.146000e+03             1.146000e+03       9.540000e+02\n",
              "75%    2011.000000     7.161900e+04             7.816700e+04       2.843050e+04\n",
              "max    2016.000000     1.336508e+08             1.336508e+08       1.025586e+07"
            ]
          },
          "metadata": {
            "tags": []
          },
          "execution_count": 8
        }
      ]
    },
    {
      "cell_type": "markdown",
      "metadata": {
        "id": "uv-Y-6FJznm6",
        "colab_type": "text"
      },
      "source": [
        "- Vemos que a coluna ano vai de 2005 a 2016.\n",
        "- A quantidade (em tonelada, como mostrada na coluna 'Unidade de Medida PEVS') apresenta um valor médio de 5.3 milhões.\n",
        "- A quantidade transformada é praticamente igual a coluna de 'quantidade', o que indica que na maioria dos casos o valor entre as duas colunas é igual.\n",
        "- Tanto a coluna quantidade como o valor em mil reais apresntam linhas em branco (visto que seus minimos são 0)."
      ]
    },
    {
      "cell_type": "markdown",
      "metadata": {
        "id": "kHtHUoDi9RTS",
        "colab_type": "text"
      },
      "source": [
        "## Respondendo perguntas pela analise desse banco de dados:"
      ]
    },
    {
      "cell_type": "markdown",
      "metadata": {
        "id": "Xn830oPO-UVr",
        "colab_type": "text"
      },
      "source": [
        "### Pergunta 1: Qual produto apresenta o maior custo por kilograma?"
      ]
    },
    {
      "cell_type": "code",
      "metadata": {
        "id": "wfk8Y_28-Pwy",
        "colab_type": "code",
        "colab": {
          "base_uri": "https://localhost:8080/",
          "height": 328
        },
        "outputId": "c49db89d-cd85-481b-9a59-418ef66cf2bc"
      },
      "source": [
        "# Vamos começar criando uma coluna que tenha o nosso valor desejado, que é custo/kg.\n",
        "# Essa nova coluna vai ser simplesmente uma divisão da coluna 'Valor (mil reais)' por 'Quantidade PEVS'*1000.\n",
        "# Como estamos interessados no peso por kilograma, criamos uma nova coluna para peso em kg multiplicando o peso em toneladas por mil.\n",
        "df['Peso (kg)'] = df['Quantidade PEVS']*1000\n",
        "# Vemos que Valor é em 1000 reais. Assim, vamos fazer a multiplicação por 1000 para obter em Reais.\n",
        "# E faremos junto a nova divisão pelo Peso, para obter reais/kg.\n",
        "df['Custo por kilograma'] = (df['Valor (mil reais)']*1000)/df['Peso (kg)']\n",
        "# Visualizando novamente o nosso dataframe\n",
        "df.head()"
      ],
      "execution_count": null,
      "outputs": [
        {
          "output_type": "execute_result",
          "data": {
            "text/html": [
              "<div>\n",
              "<style scoped>\n",
              "    .dataframe tbody tr th:only-of-type {\n",
              "        vertical-align: middle;\n",
              "    }\n",
              "\n",
              "    .dataframe tbody tr th {\n",
              "        vertical-align: top;\n",
              "    }\n",
              "\n",
              "    .dataframe thead th {\n",
              "        text-align: right;\n",
              "    }\n",
              "</style>\n",
              "<table border=\"1\" class=\"dataframe\">\n",
              "  <thead>\n",
              "    <tr style=\"text-align: right;\">\n",
              "      <th></th>\n",
              "      <th>Tipo de produto florestal</th>\n",
              "      <th>Tipo de Floresta</th>\n",
              "      <th>Tipo de Uso</th>\n",
              "      <th>Tipo de produto extrativo (com código)</th>\n",
              "      <th>Tipo de produto extrativo</th>\n",
              "      <th>Unidade de Medida PEVS</th>\n",
              "      <th>Unidade de Medida transformada</th>\n",
              "      <th>Ano_PEVS</th>\n",
              "      <th>Quantidade PEVS</th>\n",
              "      <th>Quantidade transformada</th>\n",
              "      <th>Valor (mil reais)</th>\n",
              "      <th>Peso (kg)</th>\n",
              "      <th>Custo por kilograma</th>\n",
              "    </tr>\n",
              "  </thead>\n",
              "  <tbody>\n",
              "    <tr>\n",
              "      <th>0</th>\n",
              "      <td>PFNM</td>\n",
              "      <td>Floresta Natural</td>\n",
              "      <td>Alimentícios</td>\n",
              "      <td>1.1 - Açaí (fruto) (Toneladas)</td>\n",
              "      <td>Açaí (fruto)</td>\n",
              "      <td>Toneladas</td>\n",
              "      <td>Toneladas</td>\n",
              "      <td>1994</td>\n",
              "      <td>98857.0</td>\n",
              "      <td>98857.0</td>\n",
              "      <td>46312.0</td>\n",
              "      <td>98857000.0</td>\n",
              "      <td>0.468475</td>\n",
              "    </tr>\n",
              "    <tr>\n",
              "      <th>1</th>\n",
              "      <td>PFNM</td>\n",
              "      <td>Floresta Natural</td>\n",
              "      <td>Alimentícios</td>\n",
              "      <td>1.1 - Açaí (fruto) (Toneladas)</td>\n",
              "      <td>Açaí (fruto)</td>\n",
              "      <td>Toneladas</td>\n",
              "      <td>Toneladas</td>\n",
              "      <td>1995</td>\n",
              "      <td>108922.0</td>\n",
              "      <td>108922.0</td>\n",
              "      <td>35075.0</td>\n",
              "      <td>108922000.0</td>\n",
              "      <td>0.322019</td>\n",
              "    </tr>\n",
              "    <tr>\n",
              "      <th>2</th>\n",
              "      <td>PFNM</td>\n",
              "      <td>Floresta Natural</td>\n",
              "      <td>Alimentícios</td>\n",
              "      <td>1.1 - Açaí (fruto) (Toneladas)</td>\n",
              "      <td>Açaí (fruto)</td>\n",
              "      <td>Toneladas</td>\n",
              "      <td>Toneladas</td>\n",
              "      <td>1996</td>\n",
              "      <td>111438.0</td>\n",
              "      <td>111438.0</td>\n",
              "      <td>51801.0</td>\n",
              "      <td>111438000.0</td>\n",
              "      <td>0.464841</td>\n",
              "    </tr>\n",
              "    <tr>\n",
              "      <th>3</th>\n",
              "      <td>PFNM</td>\n",
              "      <td>Floresta Natural</td>\n",
              "      <td>Alimentícios</td>\n",
              "      <td>1.1 - Açaí (fruto) (Toneladas)</td>\n",
              "      <td>Açaí (fruto)</td>\n",
              "      <td>Toneladas</td>\n",
              "      <td>Toneladas</td>\n",
              "      <td>1997</td>\n",
              "      <td>100214.0</td>\n",
              "      <td>100214.0</td>\n",
              "      <td>35690.0</td>\n",
              "      <td>100214000.0</td>\n",
              "      <td>0.356138</td>\n",
              "    </tr>\n",
              "    <tr>\n",
              "      <th>4</th>\n",
              "      <td>PFNM</td>\n",
              "      <td>Floresta Natural</td>\n",
              "      <td>Alimentícios</td>\n",
              "      <td>1.1 - Açaí (fruto) (Toneladas)</td>\n",
              "      <td>Açaí (fruto)</td>\n",
              "      <td>Toneladas</td>\n",
              "      <td>Toneladas</td>\n",
              "      <td>1998</td>\n",
              "      <td>119074.0</td>\n",
              "      <td>119074.0</td>\n",
              "      <td>48685.0</td>\n",
              "      <td>119074000.0</td>\n",
              "      <td>0.408863</td>\n",
              "    </tr>\n",
              "  </tbody>\n",
              "</table>\n",
              "</div>"
            ],
            "text/plain": [
              "  Tipo de produto florestal  Tipo de Floresta  ...    Peso (kg) Custo por kilograma\n",
              "0                      PFNM  Floresta Natural  ...   98857000.0            0.468475\n",
              "1                      PFNM  Floresta Natural  ...  108922000.0            0.322019\n",
              "2                      PFNM  Floresta Natural  ...  111438000.0            0.464841\n",
              "3                      PFNM  Floresta Natural  ...  100214000.0            0.356138\n",
              "4                      PFNM  Floresta Natural  ...  119074000.0            0.408863\n",
              "\n",
              "[5 rows x 13 columns]"
            ]
          },
          "metadata": {
            "tags": []
          },
          "execution_count": 9
        }
      ]
    },
    {
      "cell_type": "markdown",
      "metadata": {
        "id": "KFg2twuUApy9",
        "colab_type": "text"
      },
      "source": [
        "- Olhando o nosso dataframe vemos duas novas colunas: Peso(kg) que criamos como uma etapa parcial e a nossa coluna de interesse e 'Custo por kilograma' no qual temos o calculo desejado"
      ]
    },
    {
      "cell_type": "code",
      "metadata": {
        "id": "Ox-1nWZz_HjD",
        "colab_type": "code",
        "colab": {
          "base_uri": "https://localhost:8080/",
          "height": 397
        },
        "outputId": "51201a27-7495-49b4-e49d-95821b8410a8"
      },
      "source": [
        "# Agora podemos responder a nossa pergunta, vamos order o nosso dataframe pela nossa coluna de interesse e ver o produto que apresenta o maior valor\n",
        "df.sort_values(by='Custo por kilograma', ascending=False).head()"
      ],
      "execution_count": null,
      "outputs": [
        {
          "output_type": "execute_result",
          "data": {
            "text/html": [
              "<div>\n",
              "<style scoped>\n",
              "    .dataframe tbody tr th:only-of-type {\n",
              "        vertical-align: middle;\n",
              "    }\n",
              "\n",
              "    .dataframe tbody tr th {\n",
              "        vertical-align: top;\n",
              "    }\n",
              "\n",
              "    .dataframe thead th {\n",
              "        text-align: right;\n",
              "    }\n",
              "</style>\n",
              "<table border=\"1\" class=\"dataframe\">\n",
              "  <thead>\n",
              "    <tr style=\"text-align: right;\">\n",
              "      <th></th>\n",
              "      <th>Tipo de produto florestal</th>\n",
              "      <th>Tipo de Floresta</th>\n",
              "      <th>Tipo de Uso</th>\n",
              "      <th>Tipo de produto extrativo (com código)</th>\n",
              "      <th>Tipo de produto extrativo</th>\n",
              "      <th>Unidade de Medida PEVS</th>\n",
              "      <th>Unidade de Medida transformada</th>\n",
              "      <th>Ano_PEVS</th>\n",
              "      <th>Quantidade PEVS</th>\n",
              "      <th>Quantidade transformada</th>\n",
              "      <th>Valor (mil reais)</th>\n",
              "      <th>Peso (kg)</th>\n",
              "      <th>Custo por kilograma</th>\n",
              "    </tr>\n",
              "  </thead>\n",
              "  <tbody>\n",
              "    <tr>\n",
              "      <th>219</th>\n",
              "      <td>PFNM</td>\n",
              "      <td>Floresta Natural</td>\n",
              "      <td>Aromáticos, medicinais, tóxicos e corantes</td>\n",
              "      <td>2.1 - Ipecacuanha ou poaia (raiz) (Toneladas)</td>\n",
              "      <td>Ipecacuanha ou poaia (raiz)</td>\n",
              "      <td>Toneladas</td>\n",
              "      <td>Toneladas</td>\n",
              "      <td>2003</td>\n",
              "      <td>0.0</td>\n",
              "      <td>0.0</td>\n",
              "      <td>1.0</td>\n",
              "      <td>0.0</td>\n",
              "      <td>inf</td>\n",
              "    </tr>\n",
              "    <tr>\n",
              "      <th>1451</th>\n",
              "      <td>PFNM</td>\n",
              "      <td>Floresta Natural</td>\n",
              "      <td>Tanantes</td>\n",
              "      <td>10.3 - Outros (Toneladas)</td>\n",
              "      <td>Outros tanantes</td>\n",
              "      <td>Toneladas</td>\n",
              "      <td>Toneladas</td>\n",
              "      <td>2016</td>\n",
              "      <td>0.0</td>\n",
              "      <td>0.0</td>\n",
              "      <td>14.0</td>\n",
              "      <td>0.0</td>\n",
              "      <td>inf</td>\n",
              "    </tr>\n",
              "    <tr>\n",
              "      <th>229</th>\n",
              "      <td>PFNM</td>\n",
              "      <td>Floresta Natural</td>\n",
              "      <td>Aromáticos, medicinais, tóxicos e corantes</td>\n",
              "      <td>2.1 - Ipecacuanha ou poaia (raiz) (Toneladas)</td>\n",
              "      <td>Ipecacuanha ou poaia (raiz)</td>\n",
              "      <td>Toneladas</td>\n",
              "      <td>Toneladas</td>\n",
              "      <td>2013</td>\n",
              "      <td>3.0</td>\n",
              "      <td>3.0</td>\n",
              "      <td>343.0</td>\n",
              "      <td>3000.0</td>\n",
              "      <td>114.333333</td>\n",
              "    </tr>\n",
              "    <tr>\n",
              "      <th>1354</th>\n",
              "      <td>PFNM</td>\n",
              "      <td>Floresta Natural</td>\n",
              "      <td>Aromáticos, medicinais, tóxicos e corantes</td>\n",
              "      <td>2.1 - Ipecacuanha ou poaia (raiz) (Toneladas)</td>\n",
              "      <td>Ipecacuanha ou poaia (raiz)</td>\n",
              "      <td>Toneladas</td>\n",
              "      <td>Toneladas</td>\n",
              "      <td>2015</td>\n",
              "      <td>1.0</td>\n",
              "      <td>1.0</td>\n",
              "      <td>90.0</td>\n",
              "      <td>1000.0</td>\n",
              "      <td>90.000000</td>\n",
              "    </tr>\n",
              "    <tr>\n",
              "      <th>230</th>\n",
              "      <td>PFNM</td>\n",
              "      <td>Floresta Natural</td>\n",
              "      <td>Aromáticos, medicinais, tóxicos e corantes</td>\n",
              "      <td>2.1 - Ipecacuanha ou poaia (raiz) (Toneladas)</td>\n",
              "      <td>Ipecacuanha ou poaia (raiz)</td>\n",
              "      <td>Toneladas</td>\n",
              "      <td>Toneladas</td>\n",
              "      <td>2014</td>\n",
              "      <td>1.0</td>\n",
              "      <td>1.0</td>\n",
              "      <td>84.0</td>\n",
              "      <td>1000.0</td>\n",
              "      <td>84.000000</td>\n",
              "    </tr>\n",
              "  </tbody>\n",
              "</table>\n",
              "</div>"
            ],
            "text/plain": [
              "     Tipo de produto florestal  ... Custo por kilograma\n",
              "219                       PFNM  ...                 inf\n",
              "1451                      PFNM  ...                 inf\n",
              "229                       PFNM  ...          114.333333\n",
              "1354                      PFNM  ...           90.000000\n",
              "230                       PFNM  ...           84.000000\n",
              "\n",
              "[5 rows x 13 columns]"
            ]
          },
          "metadata": {
            "tags": []
          },
          "execution_count": 10
        }
      ]
    },
    {
      "cell_type": "markdown",
      "metadata": {
        "id": "o7OHW_FfCiqf",
        "colab_type": "text"
      },
      "source": [
        "Solução e algumas coisas a se notar:\n",
        "- Como comentamos antes, existem valores nulos e isso pode atrapalhar em alguns calculos. Em analises \"reais\" o ideal é visualizar os valores nulos e os valores que estão faltando antes da analise e lidar com eles propriamente (deletar, inferir, etc...)\n",
        "- Os 3 valores não nulos que vemos dizem que 'Ipecacuanha ou poaia (raiz)' tem o maior custo por peso.\n",
        "- Podem existir erros nesse calculo, quem dirá que essas três linhas que vemos não são um caso a parte? Poderiam muito bem ser pontos fora da curva. Um jeito mais robusto de responder essa pergunta é pegar o custo/kg médio por tipo de produto extrativo! E é isso que faremos a seguir!"
      ]
    },
    {
      "cell_type": "markdown",
      "metadata": {
        "id": "mZE47ZFdDmAL",
        "colab_type": "text"
      },
      "source": [
        "### Pergunta 1b: Quais são os três produtos que apresentam em média o maior custo por kilograma?"
      ]
    },
    {
      "cell_type": "code",
      "metadata": {
        "id": "tbbNYSlaEqfa",
        "colab_type": "code",
        "colab": {}
      },
      "source": [
        "# Se você não está familiarizado com Pandas e Python no geral, aconselho aqui a não se preocupar muito com as formulas e apenas com o resultado.\n",
        "import numpy as np\n",
        "# Aqui nós vamos simplesmente excluir qualquer linha que apresente valor inifito para custo/kg\n",
        "df.replace([np.inf, -np.inf], np.nan, inplace=True)\n",
        "df.dropna(inplace=True)"
      ],
      "execution_count": null,
      "outputs": []
    },
    {
      "cell_type": "code",
      "metadata": {
        "id": "51cp_pYPCRaI",
        "colab_type": "code",
        "colab": {
          "base_uri": "https://localhost:8080/",
          "height": 455
        },
        "outputId": "2a31ce72-9379-4fa4-ec87-f0aa790ea19d"
      },
      "source": [
        "# O que será feito aqui é algo parecido com as tabelas dinâmicas do excel. Vamos agrupar as linhas pelo tipo de produto extrativo\n",
        "# depois iremos calcular o valor médio do custo/kg pra cada grupo e finalmente iremos ordenar de forma decrescente\n",
        "gb = df.groupby('Tipo de produto extrativo')\n",
        "gb['Custo por kilograma'].mean().sort_values(ascending=False).to_frame()"
      ],
      "execution_count": null,
      "outputs": [
        {
          "output_type": "execute_result",
          "data": {
            "text/html": [
              "<div>\n",
              "<style scoped>\n",
              "    .dataframe tbody tr th:only-of-type {\n",
              "        vertical-align: middle;\n",
              "    }\n",
              "\n",
              "    .dataframe tbody tr th {\n",
              "        vertical-align: top;\n",
              "    }\n",
              "\n",
              "    .dataframe thead th {\n",
              "        text-align: right;\n",
              "    }\n",
              "</style>\n",
              "<table border=\"1\" class=\"dataframe\">\n",
              "  <thead>\n",
              "    <tr style=\"text-align: right;\">\n",
              "      <th></th>\n",
              "      <th>Custo por kilograma</th>\n",
              "    </tr>\n",
              "    <tr>\n",
              "      <th>Tipo de produto extrativo</th>\n",
              "      <th></th>\n",
              "    </tr>\n",
              "  </thead>\n",
              "  <tbody>\n",
              "    <tr>\n",
              "      <th>Ipecacuanha ou poaia (raiz)</th>\n",
              "      <td>37.552083</td>\n",
              "    </tr>\n",
              "    <tr>\n",
              "      <th>Balata</th>\n",
              "      <td>17.000000</td>\n",
              "    </tr>\n",
              "    <tr>\n",
              "      <th>Copaíba (óleo)</th>\n",
              "      <td>7.405895</td>\n",
              "    </tr>\n",
              "    <tr>\n",
              "      <th>Cumaru (amêndoa)</th>\n",
              "      <td>6.488684</td>\n",
              "    </tr>\n",
              "    <tr>\n",
              "      <th>Carnaúba (cera)</th>\n",
              "      <td>5.693663</td>\n",
              "    </tr>\n",
              "    <tr>\n",
              "      <th>...</th>\n",
              "      <td>...</td>\n",
              "    </tr>\n",
              "    <tr>\n",
              "      <th>Madeira em tora para papel e celulose (silvicultura)</th>\n",
              "      <td>0.037257</td>\n",
              "    </tr>\n",
              "    <tr>\n",
              "      <th>Lenha (silvicultura)</th>\n",
              "      <td>0.023144</td>\n",
              "    </tr>\n",
              "    <tr>\n",
              "      <th>Lenha (extrativismo)</th>\n",
              "      <td>0.011986</td>\n",
              "    </tr>\n",
              "    <tr>\n",
              "      <th>Pinheiro brasileiro (madeira em tora)</th>\n",
              "      <td>0.000000</td>\n",
              "    </tr>\n",
              "    <tr>\n",
              "      <th>Pinheiro brasileiro (árvores abatidas)</th>\n",
              "      <td>0.000000</td>\n",
              "    </tr>\n",
              "  </tbody>\n",
              "</table>\n",
              "<p>63 rows × 1 columns</p>\n",
              "</div>"
            ],
            "text/plain": [
              "                                                    Custo por kilograma\n",
              "Tipo de produto extrativo                                              \n",
              "Ipecacuanha ou poaia (raiz)                                   37.552083\n",
              "Balata                                                        17.000000\n",
              "Copaíba (óleo)                                                 7.405895\n",
              "Cumaru (amêndoa)                                               6.488684\n",
              "Carnaúba (cera)                                                5.693663\n",
              "...                                                                 ...\n",
              "Madeira em tora para papel e celulose (silvicul...             0.037257\n",
              "Lenha (silvicultura)                                           0.023144\n",
              "Lenha (extrativismo)                                           0.011986\n",
              "Pinheiro brasileiro (madeira em tora)                          0.000000\n",
              "Pinheiro brasileiro (árvores abatidas)                         0.000000\n",
              "\n",
              "[63 rows x 1 columns]"
            ]
          },
          "metadata": {
            "tags": []
          },
          "execution_count": 15
        }
      ]
    },
    {
      "cell_type": "markdown",
      "metadata": {
        "id": "sVbL-2zYEfrE",
        "colab_type": "text"
      },
      "source": [
        "Resultado:\n",
        "1. Ipecacuanha ou poaia (raiz)\n",
        "2. Balata\n",
        "3. Copaíba (óleo)"
      ]
    },
    {
      "cell_type": "code",
      "metadata": {
        "id": "BaACt0l_bP2w",
        "colab_type": "code",
        "colab": {}
      },
      "source": [
        ""
      ],
      "execution_count": null,
      "outputs": []
    }
  ]
}