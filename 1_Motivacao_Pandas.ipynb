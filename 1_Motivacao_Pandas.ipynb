{
  "nbformat": 4,
  "nbformat_minor": 0,
  "metadata": {
    "colab": {
      "name": "1_Motivacao_Pandas.ipynb",
      "provenance": [],
      "collapsed_sections": [],
      "authorship_tag": "ABX9TyMXqHktgWEsKkD4YBAWUwpG",
      "include_colab_link": true
    },
    "kernelspec": {
      "name": "python3",
      "display_name": "Python 3"
    }
  },
  "cells": [
    {
      "cell_type": "markdown",
      "metadata": {
        "id": "view-in-github",
        "colab_type": "text"
      },
      "source": [
        "<a href=\"https://colab.research.google.com/github/mtrentz/blog_notebooks/blob/master/1_Motivacao_Pandas.ipynb\" target=\"_parent\"><img src=\"https://colab.research.google.com/assets/colab-badge.svg\" alt=\"Open In Colab\"/></a>"
      ]
    },
    {
      "cell_type": "markdown",
      "metadata": {
        "id": "QsmsYN1FuGSK",
        "colab_type": "text"
      },
      "source": [
        "# Motivação para aprender Python: Ciência de Dados\n",
        " - Utilizando a biblioteca Pandas para alterar e analisar datasets"
      ]
    },
    {
      "cell_type": "markdown",
      "metadata": {
        "id": "0B3rXaOBuZqk",
        "colab_type": "text"
      },
      "source": [
        "## Carregando o dataset"
      ]
    },
    {
      "cell_type": "code",
      "metadata": {
        "id": "wY3YnHtcmS6r",
        "colab_type": "code",
        "colab": {}
      },
      "source": [
        "# Importando a biblioteca que vamos utilizar\n",
        "import pandas as pd"
      ],
      "execution_count": 1,
      "outputs": []
    },
    {
      "cell_type": "markdown",
      "metadata": {
        "id": "ZjcQgAl7utZj",
        "colab_type": "text"
      },
      "source": [
        "Nesse exemplo será utilizado uma base de dados do governo sobre a extração de produtos florestais.\n",
        "\n",
        "O download do banco é feito [daqui](http://dados.gov.br/dataset/sistema-nacional-de-informacoes-florestais-snif/resource/b0a31254-ad8a-423b-bf2e-5ad9ab621844)\n",
        "\n",
        "A descrição de cada coluna (metadados) está [neste link](http://homolog-dados.mma.gov.br/pt_BR/dataset/ffd9ab35-5719-4ec1-8d13-ae8f738bebc2/resource/8171a927-2604-4fe0-8330-468605353d01/download/extracao-de-produtos-florestais-madeireiros-dicionario-de-dados.pdf)\n",
        "\n"
      ]
    },
    {
      "cell_type": "code",
      "metadata": {
        "id": "QgAA6-zumX7H",
        "colab_type": "code",
        "colab": {}
      },
      "source": [
        "# URL direto para os dados em formato de csv\n",
        "dataset_url = \"http://homolog-dados.mma.gov.br/pt_BR/dataset/ffd9ab35-5719-4ec1-8d13-ae8f738bebc2/resource/b0a31254-ad8a-423b-bf2e-5ad9ab621844/download/extracao_pfm_1994-2016.csv\"\n",
        "# Criando o nosso dataframe, que é essencialmente a nossa tabela\n",
        "df = pd.read_csv(dataset_url, encoding='latin1', sep=';')"
      ],
      "execution_count": 2,
      "outputs": []
    },
    {
      "cell_type": "code",
      "metadata": {
        "id": "Rn_5Zu2Nt5ok",
        "colab_type": "code",
        "colab": {
          "base_uri": "https://localhost:8080/",
          "height": 223
        },
        "outputId": "9c4eed61-0960-4567-8ff3-61d9b052acac"
      },
      "source": [
        "# Mostrando todas as colunas e as primeiras linhas de nosso dataset\n",
        "df.head()"
      ],
      "execution_count": 3,
      "outputs": [
        {
          "output_type": "execute_result",
          "data": {
            "text/html": [
              "<div>\n",
              "<style scoped>\n",
              "    .dataframe tbody tr th:only-of-type {\n",
              "        vertical-align: middle;\n",
              "    }\n",
              "\n",
              "    .dataframe tbody tr th {\n",
              "        vertical-align: top;\n",
              "    }\n",
              "\n",
              "    .dataframe thead th {\n",
              "        text-align: right;\n",
              "    }\n",
              "</style>\n",
              "<table border=\"1\" class=\"dataframe\">\n",
              "  <thead>\n",
              "    <tr style=\"text-align: right;\">\n",
              "      <th></th>\n",
              "      <th>Tipo de produto florestal</th>\n",
              "      <th>Tipo de Floresta</th>\n",
              "      <th>Tipo de Uso</th>\n",
              "      <th>Tipo de produto extrativo (com código)</th>\n",
              "      <th>Tipo de produto extrativo</th>\n",
              "      <th>Unidade de Medida PEVS</th>\n",
              "      <th>Unidade de Medida transformada</th>\n",
              "      <th>Ano_PEVS</th>\n",
              "      <th>Quantidade PEVS</th>\n",
              "      <th>Quantidade transformada</th>\n",
              "      <th>Valor (mil reais)</th>\n",
              "    </tr>\n",
              "  </thead>\n",
              "  <tbody>\n",
              "    <tr>\n",
              "      <th>0</th>\n",
              "      <td>PFNM</td>\n",
              "      <td>Floresta Natural</td>\n",
              "      <td>Alimentícios</td>\n",
              "      <td>1.1 - Açaí (fruto) (Toneladas)</td>\n",
              "      <td>Açaí (fruto)</td>\n",
              "      <td>Toneladas</td>\n",
              "      <td>Toneladas</td>\n",
              "      <td>1994</td>\n",
              "      <td>98857.0</td>\n",
              "      <td>98857.0</td>\n",
              "      <td>46312.0</td>\n",
              "    </tr>\n",
              "    <tr>\n",
              "      <th>1</th>\n",
              "      <td>PFNM</td>\n",
              "      <td>Floresta Natural</td>\n",
              "      <td>Alimentícios</td>\n",
              "      <td>1.1 - Açaí (fruto) (Toneladas)</td>\n",
              "      <td>Açaí (fruto)</td>\n",
              "      <td>Toneladas</td>\n",
              "      <td>Toneladas</td>\n",
              "      <td>1995</td>\n",
              "      <td>108922.0</td>\n",
              "      <td>108922.0</td>\n",
              "      <td>35075.0</td>\n",
              "    </tr>\n",
              "    <tr>\n",
              "      <th>2</th>\n",
              "      <td>PFNM</td>\n",
              "      <td>Floresta Natural</td>\n",
              "      <td>Alimentícios</td>\n",
              "      <td>1.1 - Açaí (fruto) (Toneladas)</td>\n",
              "      <td>Açaí (fruto)</td>\n",
              "      <td>Toneladas</td>\n",
              "      <td>Toneladas</td>\n",
              "      <td>1996</td>\n",
              "      <td>111438.0</td>\n",
              "      <td>111438.0</td>\n",
              "      <td>51801.0</td>\n",
              "    </tr>\n",
              "    <tr>\n",
              "      <th>3</th>\n",
              "      <td>PFNM</td>\n",
              "      <td>Floresta Natural</td>\n",
              "      <td>Alimentícios</td>\n",
              "      <td>1.1 - Açaí (fruto) (Toneladas)</td>\n",
              "      <td>Açaí (fruto)</td>\n",
              "      <td>Toneladas</td>\n",
              "      <td>Toneladas</td>\n",
              "      <td>1997</td>\n",
              "      <td>100214.0</td>\n",
              "      <td>100214.0</td>\n",
              "      <td>35690.0</td>\n",
              "    </tr>\n",
              "    <tr>\n",
              "      <th>4</th>\n",
              "      <td>PFNM</td>\n",
              "      <td>Floresta Natural</td>\n",
              "      <td>Alimentícios</td>\n",
              "      <td>1.1 - Açaí (fruto) (Toneladas)</td>\n",
              "      <td>Açaí (fruto)</td>\n",
              "      <td>Toneladas</td>\n",
              "      <td>Toneladas</td>\n",
              "      <td>1998</td>\n",
              "      <td>119074.0</td>\n",
              "      <td>119074.0</td>\n",
              "      <td>48685.0</td>\n",
              "    </tr>\n",
              "  </tbody>\n",
              "</table>\n",
              "</div>"
            ],
            "text/plain": [
              "  Tipo de produto florestal  ... Valor (mil reais)\n",
              "0                      PFNM  ...           46312.0\n",
              "1                      PFNM  ...           35075.0\n",
              "2                      PFNM  ...           51801.0\n",
              "3                      PFNM  ...           35690.0\n",
              "4                      PFNM  ...           48685.0\n",
              "\n",
              "[5 rows x 11 columns]"
            ]
          },
          "metadata": {
            "tags": []
          },
          "execution_count": 3
        }
      ]
    },
    {
      "cell_type": "code",
      "metadata": {
        "id": "Cy0izyBtxPAh",
        "colab_type": "code",
        "colab": {
          "base_uri": "https://localhost:8080/",
          "height": 36
        },
        "outputId": "ed21b191-2757-4772-b8cc-c7e2ef2a9c9a"
      },
      "source": [
        "# É sempre interessante saber quão grande é o nosso banco de dados. Aqui vemos que ele tem 1472 linhas e 11 colunas.\n",
        "df.shape"
      ],
      "execution_count": 4,
      "outputs": [
        {
          "output_type": "execute_result",
          "data": {
            "text/plain": [
              "(1472, 11)"
            ]
          },
          "metadata": {
            "tags": []
          },
          "execution_count": 4
        }
      ]
    },
    {
      "cell_type": "markdown",
      "metadata": {
        "id": "pqoq5XJBv03k",
        "colab_type": "text"
      },
      "source": [
        "## Explorando algumas colunas"
      ]
    },
    {
      "cell_type": "code",
      "metadata": {
        "id": "MLgc4KQluAT-",
        "colab_type": "code",
        "colab": {
          "base_uri": "https://localhost:8080/",
          "height": 73
        },
        "outputId": "19073a1a-3eb3-4065-b4ec-ad9f7a824007"
      },
      "source": [
        "# Segundo os metadados, na segunda coluna consta se os dados foram obtidos de florestas naturais ou plantadas, podemos explorar a distribuição dessa classificação!\n",
        "df['Tipo de Floresta'].value_counts()"
      ],
      "execution_count": 6,
      "outputs": [
        {
          "output_type": "execute_result",
          "data": {
            "text/plain": [
              "Floresta Natural     1012\n",
              "Floresta Plantada     460\n",
              "Name: Tipo de Floresta, dtype: int64"
            ]
          },
          "metadata": {
            "tags": []
          },
          "execution_count": 6
        }
      ]
    },
    {
      "cell_type": "code",
      "metadata": {
        "id": "Yc_ScsB5v3mM",
        "colab_type": "code",
        "colab": {
          "base_uri": "https://localhost:8080/",
          "height": 335
        },
        "outputId": "059154d0-f435-4f3b-e872-d310e534f05a"
      },
      "source": [
        "# Fazendo o mesmo procedimento para a terceira coluna, na qual consta a finalidade do produto\n",
        "df['Tipo de Uso'].value_counts()"
      ],
      "execution_count": 7,
      "outputs": [
        {
          "output_type": "execute_result",
          "data": {
            "text/plain": [
              "Alimentícios                                  230\n",
              "Oleaginosos                                   184\n",
              "Madeira para Indústria - Subdivisão II        138\n",
              "Madeira para Combustível - Subdivisão         138\n",
              "Aromáticos, medicinais, tóxicos e corantes     92\n",
              "Madeira para Combustível                       92\n",
              "Fibras                                         92\n",
              "Outros produtos da silvicultura                69\n",
              "Tanantes                                       69\n",
              "Ceras                                          69\n",
              "Gomas não elásticas                            69\n",
              "Borrachas                                      69\n",
              "Madeira para Indústria - subdivisão            69\n",
              "Madeira para Indústria                         46\n",
              "Árvores abatidas                               23\n",
              "Nó de pinho                                    23\n",
              "Name: Tipo de Uso, dtype: int64"
            ]
          },
          "metadata": {
            "tags": []
          },
          "execution_count": 7
        }
      ]
    },
    {
      "cell_type": "code",
      "metadata": {
        "id": "2rZcyeCxw9iH",
        "colab_type": "code",
        "colab": {
          "base_uri": "https://localhost:8080/",
          "height": 488
        },
        "outputId": "74177fe6-0ea9-4c15-d3d1-efeceb29f354"
      },
      "source": [
        "# Podemos mostrar isso de forma gráfica\n",
        "df['Tipo de Uso'].value_counts().plot(kind='bar')"
      ],
      "execution_count": 8,
      "outputs": [
        {
          "output_type": "execute_result",
          "data": {
            "text/plain": [
              "<matplotlib.axes._subplots.AxesSubplot at 0x7ff2ff4fe048>"
            ]
          },
          "metadata": {
            "tags": []
          },
          "execution_count": 8
        },
        {
          "output_type": "display_data",
          "data": {
            "image/png": "[encoded data removed]",
            "text/plain": [
              "<Figure size 432x288 with 1 Axes>"
            ]
          },
          "metadata": {
            "tags": [],
            "needs_background": "light"
          }
        }
      ]
    },
    {
      "cell_type": "markdown",
      "metadata": {
        "id": "hnxDy_OjPGAs",
        "colab_type": "text"
      },
      "source": [
        "Quando trabalhamos com colunas numéricas algo bom e rápido de se fazer é pedir a descrição das colunas\n",
        "\n",
        "Porém CUIDADO: Muitos datasets apresentam colunas numericas como 'ID' ou coisas do gênero no qual valores como média e desvio não fazem sentido para a analise.\n",
        "\n",
        "No nosso caso conseguimos extrair algumas boas informações desse unico comando"
      ]
    },
    {
      "cell_type": "code",
      "metadata": {
        "id": "ywXiWYQIxpGn",
        "colab_type": "code",
        "colab": {
          "base_uri": "https://localhost:8080/",
          "height": 300
        },
        "outputId": "545ab389-475c-431e-d13f-3e9cdd6e0169"
      },
      "source": [
        "df.describe()"
      ],
      "execution_count": 9,
      "outputs": [
        {
          "output_type": "execute_result",
          "data": {
            "text/html": [
              "<div>\n",
              "<style scoped>\n",
              "    .dataframe tbody tr th:only-of-type {\n",
              "        vertical-align: middle;\n",
              "    }\n",
              "\n",
              "    .dataframe tbody tr th {\n",
              "        vertical-align: top;\n",
              "    }\n",
              "\n",
              "    .dataframe thead th {\n",
              "        text-align: right;\n",
              "    }\n",
              "</style>\n",
              "<table border=\"1\" class=\"dataframe\">\n",
              "  <thead>\n",
              "    <tr style=\"text-align: right;\">\n",
              "      <th></th>\n",
              "      <th>Ano_PEVS</th>\n",
              "      <th>Quantidade PEVS</th>\n",
              "      <th>Quantidade transformada</th>\n",
              "      <th>Valor (mil reais)</th>\n",
              "    </tr>\n",
              "  </thead>\n",
              "  <tbody>\n",
              "    <tr>\n",
              "      <th>count</th>\n",
              "      <td>1472.000000</td>\n",
              "      <td>1.469000e+03</td>\n",
              "      <td>1.469000e+03</td>\n",
              "      <td>1.467000e+03</td>\n",
              "    </tr>\n",
              "    <tr>\n",
              "      <th>mean</th>\n",
              "      <td>2005.000000</td>\n",
              "      <td>5.394295e+06</td>\n",
              "      <td>6.056780e+06</td>\n",
              "      <td>2.762581e+05</td>\n",
              "    </tr>\n",
              "    <tr>\n",
              "      <th>std</th>\n",
              "      <td>6.635504</td>\n",
              "      <td>1.758627e+07</td>\n",
              "      <td>1.797219e+07</td>\n",
              "      <td>9.631044e+05</td>\n",
              "    </tr>\n",
              "    <tr>\n",
              "      <th>min</th>\n",
              "      <td>1994.000000</td>\n",
              "      <td>0.000000e+00</td>\n",
              "      <td>0.000000e+00</td>\n",
              "      <td>0.000000e+00</td>\n",
              "    </tr>\n",
              "    <tr>\n",
              "      <th>25%</th>\n",
              "      <td>1999.000000</td>\n",
              "      <td>2.000000e+00</td>\n",
              "      <td>2.000000e+00</td>\n",
              "      <td>0.000000e+00</td>\n",
              "    </tr>\n",
              "    <tr>\n",
              "      <th>50%</th>\n",
              "      <td>2005.000000</td>\n",
              "      <td>1.146000e+03</td>\n",
              "      <td>1.146000e+03</td>\n",
              "      <td>9.540000e+02</td>\n",
              "    </tr>\n",
              "    <tr>\n",
              "      <th>75%</th>\n",
              "      <td>2011.000000</td>\n",
              "      <td>7.161900e+04</td>\n",
              "      <td>7.816700e+04</td>\n",
              "      <td>2.843050e+04</td>\n",
              "    </tr>\n",
              "    <tr>\n",
              "      <th>max</th>\n",
              "      <td>2016.000000</td>\n",
              "      <td>1.336508e+08</td>\n",
              "      <td>1.336508e+08</td>\n",
              "      <td>1.025586e+07</td>\n",
              "    </tr>\n",
              "  </tbody>\n",
              "</table>\n",
              "</div>"
            ],
            "text/plain": [
              "          Ano_PEVS  Quantidade PEVS  Quantidade transformada  Valor (mil reais)\n",
              "count  1472.000000     1.469000e+03             1.469000e+03       1.467000e+03\n",
              "mean   2005.000000     5.394295e+06             6.056780e+06       2.762581e+05\n",
              "std       6.635504     1.758627e+07             1.797219e+07       9.631044e+05\n",
              "min    1994.000000     0.000000e+00             0.000000e+00       0.000000e+00\n",
              "25%    1999.000000     2.000000e+00             2.000000e+00       0.000000e+00\n",
              "50%    2005.000000     1.146000e+03             1.146000e+03       9.540000e+02\n",
              "75%    2011.000000     7.161900e+04             7.816700e+04       2.843050e+04\n",
              "max    2016.000000     1.336508e+08             1.336508e+08       1.025586e+07"
            ]
          },
          "metadata": {
            "tags": []
          },
          "execution_count": 9
        }
      ]
    },
    {
      "cell_type": "markdown",
      "metadata": {
        "id": "uv-Y-6FJznm6",
        "colab_type": "text"
      },
      "source": [
        "- Vemos que a coluna ano vai de 1994 a 2016.\n",
        "- A quantidade (em tonelada, como mostrada na coluna 'Unidade de Medida PEVS') apresenta um valor médio de 5.3 milhões.\n",
        "- A quantidade transformada é praticamente igual a coluna de 'quantidade', o que indica que na maioria dos casos o valor entre as duas colunas é igual.\n",
        "- Tanto a coluna quantidade como o valor em mil reais apresntam linhas em branco (visto que seus minimos são 0)."
      ]
    },
    {
      "cell_type": "markdown",
      "metadata": {
        "id": "kHtHUoDi9RTS",
        "colab_type": "text"
      },
      "source": [
        "## Respondendo perguntas pela analise desse banco de dados:"
      ]
    },
    {
      "cell_type": "markdown",
      "metadata": {
        "id": "Xn830oPO-UVr",
        "colab_type": "text"
      },
      "source": [
        "### Pergunta 1: Qual produto apresenta o maior custo por kilograma?"
      ]
    },
    {
      "cell_type": "code",
      "metadata": {
        "id": "WgijwxkNEnGD",
        "colab_type": "code",
        "colab": {
          "base_uri": "https://localhost:8080/",
          "height": 92
        },
        "outputId": "0bee89c5-8945-480d-8cf5-73d5e1a948f8"
      },
      "source": [
        "# Conferindo se todas as linhas apresentam medidas em toneladas\n",
        "df['Unidade de Medida PEVS'].value_counts()"
      ],
      "execution_count": 10,
      "outputs": [
        {
          "output_type": "execute_result",
          "data": {
            "text/plain": [
              "Toneladas         1058\n",
              "Metros cúbicos     391\n",
              "Mil árvores         23\n",
              "Name: Unidade de Medida PEVS, dtype: int64"
            ]
          },
          "metadata": {
            "tags": []
          },
          "execution_count": 10
        }
      ]
    },
    {
      "cell_type": "markdown",
      "metadata": {
        "id": "NZCPXpcHEjjQ",
        "colab_type": "text"
      },
      "source": [
        "Vemos que muitas medidas são feitas em metros cúbicos ou em mil arvores. Como este é um caso exemplo, vou simplesmente filtrar essas linhas. Em um estudo real talvez fosse necessário descobrir a densidade de cada produto e achar um jeito de transformar arvores para toneladas."
      ]
    },
    {
      "cell_type": "code",
      "metadata": {
        "id": "w7pzG_fRE8S9",
        "colab_type": "code",
        "colab": {}
      },
      "source": [
        "# Aqui eu filtro o dataframe só deixando as linhas no qual a unidade é Toneladas\n",
        "df = df.loc[df['Unidade de Medida PEVS'] == 'Toneladas', :]"
      ],
      "execution_count": 11,
      "outputs": []
    },
    {
      "cell_type": "markdown",
      "metadata": {
        "id": "Bqgai1NcFiVW",
        "colab_type": "text"
      },
      "source": [
        "Agora podemos começar a criar nossa coluna de interesse que é custo/kg.\n",
        "\n",
        "Essa nova coluna vai ser simplesmente uma divisão da coluna 'Valor (mil reais)' x 1000 por 'Quantidade PEVS' x 1000.\n",
        "\n",
        "Como estamos interessados no peso por kilograma, criamos uma nova coluna para peso em kg multiplicando o peso em toneladas por mil.\n",
        "\n",
        "A seguir vamos criar já a coluna de interesse a aplicar o resto das operações necessárias (que é multiplicar o valor em mil reais por 1000)"
      ]
    },
    {
      "cell_type": "code",
      "metadata": {
        "id": "wfk8Y_28-Pwy",
        "colab_type": "code",
        "colab": {
          "base_uri": "https://localhost:8080/",
          "height": 328
        },
        "outputId": "4a98221a-f42a-4407-e540-cbef6cc90020"
      },
      "source": [
        "# Criando nova coluna\n",
        "df['Peso (kg)'] = df['Quantidade PEVS']*1000\n",
        "# Criando coluna de interesse enquanto fazemos a ultima operação necessária\n",
        "df['Custo por kilograma'] = (df['Valor (mil reais)']*1000)/df['Peso (kg)']\n",
        "# Visualizando novamente o nosso dataframe\n",
        "df.head()"
      ],
      "execution_count": 12,
      "outputs": [
        {
          "output_type": "execute_result",
          "data": {
            "text/html": [
              "<div>\n",
              "<style scoped>\n",
              "    .dataframe tbody tr th:only-of-type {\n",
              "        vertical-align: middle;\n",
              "    }\n",
              "\n",
              "    .dataframe tbody tr th {\n",
              "        vertical-align: top;\n",
              "    }\n",
              "\n",
              "    .dataframe thead th {\n",
              "        text-align: right;\n",
              "    }\n",
              "</style>\n",
              "<table border=\"1\" class=\"dataframe\">\n",
              "  <thead>\n",
              "    <tr style=\"text-align: right;\">\n",
              "      <th></th>\n",
              "      <th>Tipo de produto florestal</th>\n",
              "      <th>Tipo de Floresta</th>\n",
              "      <th>Tipo de Uso</th>\n",
              "      <th>Tipo de produto extrativo (com código)</th>\n",
              "      <th>Tipo de produto extrativo</th>\n",
              "      <th>Unidade de Medida PEVS</th>\n",
              "      <th>Unidade de Medida transformada</th>\n",
              "      <th>Ano_PEVS</th>\n",
              "      <th>Quantidade PEVS</th>\n",
              "      <th>Quantidade transformada</th>\n",
              "      <th>Valor (mil reais)</th>\n",
              "      <th>Peso (kg)</th>\n",
              "      <th>Custo por kilograma</th>\n",
              "    </tr>\n",
              "  </thead>\n",
              "  <tbody>\n",
              "    <tr>\n",
              "      <th>0</th>\n",
              "      <td>PFNM</td>\n",
              "      <td>Floresta Natural</td>\n",
              "      <td>Alimentícios</td>\n",
              "      <td>1.1 - Açaí (fruto) (Toneladas)</td>\n",
              "      <td>Açaí (fruto)</td>\n",
              "      <td>Toneladas</td>\n",
              "      <td>Toneladas</td>\n",
              "      <td>1994</td>\n",
              "      <td>98857.0</td>\n",
              "      <td>98857.0</td>\n",
              "      <td>46312.0</td>\n",
              "      <td>98857000.0</td>\n",
              "      <td>0.468475</td>\n",
              "    </tr>\n",
              "    <tr>\n",
              "      <th>1</th>\n",
              "      <td>PFNM</td>\n",
              "      <td>Floresta Natural</td>\n",
              "      <td>Alimentícios</td>\n",
              "      <td>1.1 - Açaí (fruto) (Toneladas)</td>\n",
              "      <td>Açaí (fruto)</td>\n",
              "      <td>Toneladas</td>\n",
              "      <td>Toneladas</td>\n",
              "      <td>1995</td>\n",
              "      <td>108922.0</td>\n",
              "      <td>108922.0</td>\n",
              "      <td>35075.0</td>\n",
              "      <td>108922000.0</td>\n",
              "      <td>0.322019</td>\n",
              "    </tr>\n",
              "    <tr>\n",
              "      <th>2</th>\n",
              "      <td>PFNM</td>\n",
              "      <td>Floresta Natural</td>\n",
              "      <td>Alimentícios</td>\n",
              "      <td>1.1 - Açaí (fruto) (Toneladas)</td>\n",
              "      <td>Açaí (fruto)</td>\n",
              "      <td>Toneladas</td>\n",
              "      <td>Toneladas</td>\n",
              "      <td>1996</td>\n",
              "      <td>111438.0</td>\n",
              "      <td>111438.0</td>\n",
              "      <td>51801.0</td>\n",
              "      <td>111438000.0</td>\n",
              "      <td>0.464841</td>\n",
              "    </tr>\n",
              "    <tr>\n",
              "      <th>3</th>\n",
              "      <td>PFNM</td>\n",
              "      <td>Floresta Natural</td>\n",
              "      <td>Alimentícios</td>\n",
              "      <td>1.1 - Açaí (fruto) (Toneladas)</td>\n",
              "      <td>Açaí (fruto)</td>\n",
              "      <td>Toneladas</td>\n",
              "      <td>Toneladas</td>\n",
              "      <td>1997</td>\n",
              "      <td>100214.0</td>\n",
              "      <td>100214.0</td>\n",
              "      <td>35690.0</td>\n",
              "      <td>100214000.0</td>\n",
              "      <td>0.356138</td>\n",
              "    </tr>\n",
              "    <tr>\n",
              "      <th>4</th>\n",
              "      <td>PFNM</td>\n",
              "      <td>Floresta Natural</td>\n",
              "      <td>Alimentícios</td>\n",
              "      <td>1.1 - Açaí (fruto) (Toneladas)</td>\n",
              "      <td>Açaí (fruto)</td>\n",
              "      <td>Toneladas</td>\n",
              "      <td>Toneladas</td>\n",
              "      <td>1998</td>\n",
              "      <td>119074.0</td>\n",
              "      <td>119074.0</td>\n",
              "      <td>48685.0</td>\n",
              "      <td>119074000.0</td>\n",
              "      <td>0.408863</td>\n",
              "    </tr>\n",
              "  </tbody>\n",
              "</table>\n",
              "</div>"
            ],
            "text/plain": [
              "  Tipo de produto florestal  Tipo de Floresta  ...    Peso (kg) Custo por kilograma\n",
              "0                      PFNM  Floresta Natural  ...   98857000.0            0.468475\n",
              "1                      PFNM  Floresta Natural  ...  108922000.0            0.322019\n",
              "2                      PFNM  Floresta Natural  ...  111438000.0            0.464841\n",
              "3                      PFNM  Floresta Natural  ...  100214000.0            0.356138\n",
              "4                      PFNM  Floresta Natural  ...  119074000.0            0.408863\n",
              "\n",
              "[5 rows x 13 columns]"
            ]
          },
          "metadata": {
            "tags": []
          },
          "execution_count": 12
        }
      ]
    },
    {
      "cell_type": "markdown",
      "metadata": {
        "id": "KFg2twuUApy9",
        "colab_type": "text"
      },
      "source": [
        "Olhando o nosso dataframe vemos duas novas colunas: Peso(kg) que criamos como uma etapa parcial e a nossa coluna de interesse e 'Custo por kilograma' no qual temos o calculo desejado.\n",
        "\n",
        "Agora podemos responder a nossa pergunta, vamos order o nosso dataframe pela nossa coluna de interesse e ver o produto que apresenta o maior valor.\n"
      ]
    },
    {
      "cell_type": "code",
      "metadata": {
        "id": "Ox-1nWZz_HjD",
        "colab_type": "code",
        "colab": {
          "base_uri": "https://localhost:8080/",
          "height": 397
        },
        "outputId": "d40f5423-cb51-4182-fadd-d3ae32e9acb1"
      },
      "source": [
        "df.sort_values(by='Custo por kilograma', ascending=False).head()"
      ],
      "execution_count": 13,
      "outputs": [
        {
          "output_type": "execute_result",
          "data": {
            "text/html": [
              "<div>\n",
              "<style scoped>\n",
              "    .dataframe tbody tr th:only-of-type {\n",
              "        vertical-align: middle;\n",
              "    }\n",
              "\n",
              "    .dataframe tbody tr th {\n",
              "        vertical-align: top;\n",
              "    }\n",
              "\n",
              "    .dataframe thead th {\n",
              "        text-align: right;\n",
              "    }\n",
              "</style>\n",
              "<table border=\"1\" class=\"dataframe\">\n",
              "  <thead>\n",
              "    <tr style=\"text-align: right;\">\n",
              "      <th></th>\n",
              "      <th>Tipo de produto florestal</th>\n",
              "      <th>Tipo de Floresta</th>\n",
              "      <th>Tipo de Uso</th>\n",
              "      <th>Tipo de produto extrativo (com código)</th>\n",
              "      <th>Tipo de produto extrativo</th>\n",
              "      <th>Unidade de Medida PEVS</th>\n",
              "      <th>Unidade de Medida transformada</th>\n",
              "      <th>Ano_PEVS</th>\n",
              "      <th>Quantidade PEVS</th>\n",
              "      <th>Quantidade transformada</th>\n",
              "      <th>Valor (mil reais)</th>\n",
              "      <th>Peso (kg)</th>\n",
              "      <th>Custo por kilograma</th>\n",
              "    </tr>\n",
              "  </thead>\n",
              "  <tbody>\n",
              "    <tr>\n",
              "      <th>1451</th>\n",
              "      <td>PFNM</td>\n",
              "      <td>Floresta Natural</td>\n",
              "      <td>Tanantes</td>\n",
              "      <td>10.3 - Outros (Toneladas)</td>\n",
              "      <td>Outros tanantes</td>\n",
              "      <td>Toneladas</td>\n",
              "      <td>Toneladas</td>\n",
              "      <td>2016</td>\n",
              "      <td>0.0</td>\n",
              "      <td>0.0</td>\n",
              "      <td>14.0</td>\n",
              "      <td>0.0</td>\n",
              "      <td>inf</td>\n",
              "    </tr>\n",
              "    <tr>\n",
              "      <th>219</th>\n",
              "      <td>PFNM</td>\n",
              "      <td>Floresta Natural</td>\n",
              "      <td>Aromáticos, medicinais, tóxicos e corantes</td>\n",
              "      <td>2.1 - Ipecacuanha ou poaia (raiz) (Toneladas)</td>\n",
              "      <td>Ipecacuanha ou poaia (raiz)</td>\n",
              "      <td>Toneladas</td>\n",
              "      <td>Toneladas</td>\n",
              "      <td>2003</td>\n",
              "      <td>0.0</td>\n",
              "      <td>0.0</td>\n",
              "      <td>1.0</td>\n",
              "      <td>0.0</td>\n",
              "      <td>inf</td>\n",
              "    </tr>\n",
              "    <tr>\n",
              "      <th>229</th>\n",
              "      <td>PFNM</td>\n",
              "      <td>Floresta Natural</td>\n",
              "      <td>Aromáticos, medicinais, tóxicos e corantes</td>\n",
              "      <td>2.1 - Ipecacuanha ou poaia (raiz) (Toneladas)</td>\n",
              "      <td>Ipecacuanha ou poaia (raiz)</td>\n",
              "      <td>Toneladas</td>\n",
              "      <td>Toneladas</td>\n",
              "      <td>2013</td>\n",
              "      <td>3.0</td>\n",
              "      <td>3.0</td>\n",
              "      <td>343.0</td>\n",
              "      <td>3000.0</td>\n",
              "      <td>114.333333</td>\n",
              "    </tr>\n",
              "    <tr>\n",
              "      <th>1354</th>\n",
              "      <td>PFNM</td>\n",
              "      <td>Floresta Natural</td>\n",
              "      <td>Aromáticos, medicinais, tóxicos e corantes</td>\n",
              "      <td>2.1 - Ipecacuanha ou poaia (raiz) (Toneladas)</td>\n",
              "      <td>Ipecacuanha ou poaia (raiz)</td>\n",
              "      <td>Toneladas</td>\n",
              "      <td>Toneladas</td>\n",
              "      <td>2015</td>\n",
              "      <td>1.0</td>\n",
              "      <td>1.0</td>\n",
              "      <td>90.0</td>\n",
              "      <td>1000.0</td>\n",
              "      <td>90.000000</td>\n",
              "    </tr>\n",
              "    <tr>\n",
              "      <th>230</th>\n",
              "      <td>PFNM</td>\n",
              "      <td>Floresta Natural</td>\n",
              "      <td>Aromáticos, medicinais, tóxicos e corantes</td>\n",
              "      <td>2.1 - Ipecacuanha ou poaia (raiz) (Toneladas)</td>\n",
              "      <td>Ipecacuanha ou poaia (raiz)</td>\n",
              "      <td>Toneladas</td>\n",
              "      <td>Toneladas</td>\n",
              "      <td>2014</td>\n",
              "      <td>1.0</td>\n",
              "      <td>1.0</td>\n",
              "      <td>84.0</td>\n",
              "      <td>1000.0</td>\n",
              "      <td>84.000000</td>\n",
              "    </tr>\n",
              "  </tbody>\n",
              "</table>\n",
              "</div>"
            ],
            "text/plain": [
              "     Tipo de produto florestal  ... Custo por kilograma\n",
              "1451                      PFNM  ...                 inf\n",
              "219                       PFNM  ...                 inf\n",
              "229                       PFNM  ...          114.333333\n",
              "1354                      PFNM  ...           90.000000\n",
              "230                       PFNM  ...           84.000000\n",
              "\n",
              "[5 rows x 13 columns]"
            ]
          },
          "metadata": {
            "tags": []
          },
          "execution_count": 13
        }
      ]
    },
    {
      "cell_type": "markdown",
      "metadata": {
        "id": "o7OHW_FfCiqf",
        "colab_type": "text"
      },
      "source": [
        "Solução e algumas coisas a se notar:\n",
        "- Como comentamos antes, existem valores nulos e isso pode atrapalhar em alguns calculos. Em analises \"reais\" o ideal é visualizar os valores nulos e os valores que estão faltando antes da analise e lidar com eles propriamente (deletar, inferir, etc...)\n",
        "- Os 3 valores não nulos que vemos dizem que 'Ipecacuanha ou poaia (raiz)' tem o maior custo por peso.\n",
        "- Podem existir erros nesse calculo, quem dirá que essas três linhas que vemos não são um caso a parte? Poderiam muito bem ser pontos fora da curva. Um jeito mais robusto de responder essa pergunta é pegar o custo/kg médio por tipo de produto extrativo! E é isso que faremos a seguir!"
      ]
    },
    {
      "cell_type": "markdown",
      "metadata": {
        "id": "mZE47ZFdDmAL",
        "colab_type": "text"
      },
      "source": [
        "### Pergunta 1b: Quais são os três produtos que apresentam em média o maior custo por kilograma?"
      ]
    },
    {
      "cell_type": "code",
      "metadata": {
        "id": "tbbNYSlaEqfa",
        "colab_type": "code",
        "colab": {}
      },
      "source": [
        "# Se você não está familiarizado com Pandas e Python no geral, aconselho aqui a não se preocupar muito com as formulas e apenas com o resultado.\n",
        "import numpy as np\n",
        "# Aqui nós vamos simplesmente excluir qualquer linha que apresente valor inifito para custo/kg\n",
        "df.replace([np.inf, -np.inf], np.nan, inplace=True)\n",
        "df.dropna(inplace=True)"
      ],
      "execution_count": 14,
      "outputs": []
    },
    {
      "cell_type": "markdown",
      "metadata": {
        "id": "c3j27JY5cANj",
        "colab_type": "text"
      },
      "source": [
        "O que será feito aqui é algo parecido com as tabelas dinâmicas do excel. Vamos agrupar as linhas pelo tipo de produto extrativo depois iremos calcular o valor médio do custo/kg pra cada grupo e finalmente iremos ordenar de forma decrescente"
      ]
    },
    {
      "cell_type": "code",
      "metadata": {
        "id": "51cp_pYPCRaI",
        "colab_type": "code",
        "colab": {
          "base_uri": "https://localhost:8080/",
          "height": 1000
        },
        "outputId": "bf4226e4-d9b7-4ff5-b7be-0e2a11df32f2"
      },
      "source": [
        "gb = df.groupby('Tipo de produto extrativo')\n",
        "gb['Custo por kilograma'].mean().sort_values(ascending=False).to_frame()"
      ],
      "execution_count": 15,
      "outputs": [
        {
          "output_type": "execute_result",
          "data": {
            "text/html": [
              "<div>\n",
              "<style scoped>\n",
              "    .dataframe tbody tr th:only-of-type {\n",
              "        vertical-align: middle;\n",
              "    }\n",
              "\n",
              "    .dataframe tbody tr th {\n",
              "        vertical-align: top;\n",
              "    }\n",
              "\n",
              "    .dataframe thead th {\n",
              "        text-align: right;\n",
              "    }\n",
              "</style>\n",
              "<table border=\"1\" class=\"dataframe\">\n",
              "  <thead>\n",
              "    <tr style=\"text-align: right;\">\n",
              "      <th></th>\n",
              "      <th>Custo por kilograma</th>\n",
              "    </tr>\n",
              "    <tr>\n",
              "      <th>Tipo de produto extrativo</th>\n",
              "      <th></th>\n",
              "    </tr>\n",
              "  </thead>\n",
              "  <tbody>\n",
              "    <tr>\n",
              "      <th>Ipecacuanha ou poaia (raiz)</th>\n",
              "      <td>37.552083</td>\n",
              "    </tr>\n",
              "    <tr>\n",
              "      <th>Balata</th>\n",
              "      <td>17.000000</td>\n",
              "    </tr>\n",
              "    <tr>\n",
              "      <th>Copaíba (óleo)</th>\n",
              "      <td>7.405895</td>\n",
              "    </tr>\n",
              "    <tr>\n",
              "      <th>Cumaru (amêndoa)</th>\n",
              "      <td>6.488684</td>\n",
              "    </tr>\n",
              "    <tr>\n",
              "      <th>Carnaúba (cera)</th>\n",
              "      <td>5.693663</td>\n",
              "    </tr>\n",
              "    <tr>\n",
              "      <th>Carnaúba (pó)</th>\n",
              "      <td>3.593458</td>\n",
              "    </tr>\n",
              "    <tr>\n",
              "      <th>Outros tanantes</th>\n",
              "      <td>3.539827</td>\n",
              "    </tr>\n",
              "    <tr>\n",
              "      <th>Maçaranduba</th>\n",
              "      <td>2.527321</td>\n",
              "    </tr>\n",
              "    <tr>\n",
              "      <th>Hevea (látex líquido)</th>\n",
              "      <td>2.396778</td>\n",
              "    </tr>\n",
              "    <tr>\n",
              "      <th>Jaborandi (folha)</th>\n",
              "      <td>2.343259</td>\n",
              "    </tr>\n",
              "    <tr>\n",
              "      <th>Buriti</th>\n",
              "      <td>1.983464</td>\n",
              "    </tr>\n",
              "    <tr>\n",
              "      <th>Sorva</th>\n",
              "      <td>1.951951</td>\n",
              "    </tr>\n",
              "    <tr>\n",
              "      <th>Hevea (látex coagulado)</th>\n",
              "      <td>1.950647</td>\n",
              "    </tr>\n",
              "    <tr>\n",
              "      <th>Outros oleaginosos</th>\n",
              "      <td>1.794416</td>\n",
              "    </tr>\n",
              "    <tr>\n",
              "      <th>Urucum (semente)</th>\n",
              "      <td>1.721284</td>\n",
              "    </tr>\n",
              "    <tr>\n",
              "      <th>Outros alimentícios</th>\n",
              "      <td>1.641103</td>\n",
              "    </tr>\n",
              "    <tr>\n",
              "      <th>Piaçava</th>\n",
              "      <td>1.368783</td>\n",
              "    </tr>\n",
              "    <tr>\n",
              "      <th>Palmito</th>\n",
              "      <td>1.344265</td>\n",
              "    </tr>\n",
              "    <tr>\n",
              "      <th>Pequi (amêndoa)</th>\n",
              "      <td>1.265767</td>\n",
              "    </tr>\n",
              "    <tr>\n",
              "      <th>Resina</th>\n",
              "      <td>1.254320</td>\n",
              "    </tr>\n",
              "    <tr>\n",
              "      <th>Castanha-do-Pará</th>\n",
              "      <td>1.253667</td>\n",
              "    </tr>\n",
              "    <tr>\n",
              "      <th>Mangaba</th>\n",
              "      <td>1.187258</td>\n",
              "    </tr>\n",
              "    <tr>\n",
              "      <th>Pinhão</th>\n",
              "      <td>1.149229</td>\n",
              "    </tr>\n",
              "    <tr>\n",
              "      <th>Outras fibras</th>\n",
              "      <td>1.130930</td>\n",
              "    </tr>\n",
              "    <tr>\n",
              "      <th>Outros aromáticos, medicinais, tóxicos e corantes</th>\n",
              "      <td>1.096922</td>\n",
              "    </tr>\n",
              "    <tr>\n",
              "      <th>Açaí (fruto)</th>\n",
              "      <td>1.041888</td>\n",
              "    </tr>\n",
              "    <tr>\n",
              "      <th>Castanha de cajú</th>\n",
              "      <td>1.016396</td>\n",
              "    </tr>\n",
              "    <tr>\n",
              "      <th>Tucum (amêndoa)</th>\n",
              "      <td>0.959815</td>\n",
              "    </tr>\n",
              "    <tr>\n",
              "      <th>Barbatimão (casca)</th>\n",
              "      <td>0.883187</td>\n",
              "    </tr>\n",
              "    <tr>\n",
              "      <th>Babaçu (amêndoa)</th>\n",
              "      <td>0.835635</td>\n",
              "    </tr>\n",
              "    <tr>\n",
              "      <th>Pequi (fruto)</th>\n",
              "      <td>0.774596</td>\n",
              "    </tr>\n",
              "    <tr>\n",
              "      <th>Carvão vegetal de outras espécies (silvicultura)</th>\n",
              "      <td>0.752063</td>\n",
              "    </tr>\n",
              "    <tr>\n",
              "      <th>Carnaúba</th>\n",
              "      <td>0.709820</td>\n",
              "    </tr>\n",
              "    <tr>\n",
              "      <th>Licuri (coquilho)</th>\n",
              "      <td>0.698904</td>\n",
              "    </tr>\n",
              "    <tr>\n",
              "      <th>Angico (casca)</th>\n",
              "      <td>0.638967</td>\n",
              "    </tr>\n",
              "    <tr>\n",
              "      <th>Umbu (fruto)</th>\n",
              "      <td>0.609297</td>\n",
              "    </tr>\n",
              "    <tr>\n",
              "      <th>Erva-mate</th>\n",
              "      <td>0.600509</td>\n",
              "    </tr>\n",
              "    <tr>\n",
              "      <th>Carvão vegetal de pinus (silvicultura)</th>\n",
              "      <td>0.512907</td>\n",
              "    </tr>\n",
              "    <tr>\n",
              "      <th>Caucho</th>\n",
              "      <td>0.500000</td>\n",
              "    </tr>\n",
              "    <tr>\n",
              "      <th>Carvão vegetal de eucalipto (silvicultura)</th>\n",
              "      <td>0.483872</td>\n",
              "    </tr>\n",
              "    <tr>\n",
              "      <th>Carvão vegetal (silvicultura)</th>\n",
              "      <td>0.330216</td>\n",
              "    </tr>\n",
              "    <tr>\n",
              "      <th>Carvão vegetal (extrativismo)</th>\n",
              "      <td>0.321827</td>\n",
              "    </tr>\n",
              "    <tr>\n",
              "      <th>Oiticica (semente)</th>\n",
              "      <td>0.290049</td>\n",
              "    </tr>\n",
              "    <tr>\n",
              "      <th>Acácia-negra (casca)</th>\n",
              "      <td>0.098602</td>\n",
              "    </tr>\n",
              "    <tr>\n",
              "      <th>Eucalipto (folha)</th>\n",
              "      <td>0.057106</td>\n",
              "    </tr>\n",
              "  </tbody>\n",
              "</table>\n",
              "</div>"
            ],
            "text/plain": [
              "                                                   Custo por kilograma\n",
              "Tipo de produto extrativo                                             \n",
              "Ipecacuanha ou poaia (raiz)                                  37.552083\n",
              "Balata                                                       17.000000\n",
              "Copaíba (óleo)                                                7.405895\n",
              "Cumaru (amêndoa)                                              6.488684\n",
              "Carnaúba (cera)                                               5.693663\n",
              "Carnaúba (pó)                                                 3.593458\n",
              "Outros tanantes                                               3.539827\n",
              "Maçaranduba                                                   2.527321\n",
              "Hevea (látex líquido)                                         2.396778\n",
              "Jaborandi (folha)                                             2.343259\n",
              "Buriti                                                        1.983464\n",
              "Sorva                                                         1.951951\n",
              "Hevea (látex coagulado)                                       1.950647\n",
              "Outros oleaginosos                                            1.794416\n",
              "Urucum (semente)                                              1.721284\n",
              "Outros alimentícios                                           1.641103\n",
              "Piaçava                                                       1.368783\n",
              "Palmito                                                       1.344265\n",
              "Pequi (amêndoa)                                               1.265767\n",
              "Resina                                                        1.254320\n",
              "Castanha-do-Pará                                              1.253667\n",
              "Mangaba                                                       1.187258\n",
              "Pinhão                                                        1.149229\n",
              "Outras fibras                                                 1.130930\n",
              "Outros aromáticos, medicinais, tóxicos e corantes             1.096922\n",
              "Açaí (fruto)                                                  1.041888\n",
              "Castanha de cajú                                              1.016396\n",
              "Tucum (amêndoa)                                               0.959815\n",
              "Barbatimão (casca)                                            0.883187\n",
              "Babaçu (amêndoa)                                              0.835635\n",
              "Pequi (fruto)                                                 0.774596\n",
              "Carvão vegetal de outras espécies (silvicultura)              0.752063\n",
              "Carnaúba                                                      0.709820\n",
              "Licuri (coquilho)                                             0.698904\n",
              "Angico (casca)                                                0.638967\n",
              "Umbu (fruto)                                                  0.609297\n",
              "Erva-mate                                                     0.600509\n",
              "Carvão vegetal de pinus (silvicultura)                        0.512907\n",
              "Caucho                                                        0.500000\n",
              "Carvão vegetal de eucalipto (silvicultura)                    0.483872\n",
              "Carvão vegetal (silvicultura)                                 0.330216\n",
              "Carvão vegetal (extrativismo)                                 0.321827\n",
              "Oiticica (semente)                                            0.290049\n",
              "Acácia-negra (casca)                                          0.098602\n",
              "Eucalipto (folha)                                             0.057106"
            ]
          },
          "metadata": {
            "tags": []
          },
          "execution_count": 15
        }
      ]
    },
    {
      "cell_type": "markdown",
      "metadata": {
        "id": "sVbL-2zYEfrE",
        "colab_type": "text"
      },
      "source": [
        "Resultado:\n",
        "1. Ipecacuanha ou poaia (raiz)\n",
        "2. Balata\n",
        "3. Copaíba (óleo)"
      ]
    },
    {
      "cell_type": "markdown",
      "metadata": {
        "id": "7Dnk9nlscrKU",
        "colab_type": "text"
      },
      "source": [
        "### Pergunta 2: Desses produtos obtidos como resposta no exercicio 1b, como posso visualizar a sua categoria (Tipo de uso)?"
      ]
    },
    {
      "cell_type": "code",
      "metadata": {
        "id": "B8GcH5d8Ef4f",
        "colab_type": "code",
        "colab": {
          "base_uri": "https://localhost:8080/",
          "height": 237
        },
        "outputId": "162184b9-bad0-4819-9faf-fc602fef9682"
      },
      "source": [
        "# Defino aquela minha tabela anterior em uma váriavel chamada df2, pada poder usar ela futuramente\n",
        "df2 = gb['Custo por kilograma'].mean().sort_values(ascending=False).to_frame()\n",
        "df2.head()"
      ],
      "execution_count": 26,
      "outputs": [
        {
          "output_type": "execute_result",
          "data": {
            "text/html": [
              "<div>\n",
              "<style scoped>\n",
              "    .dataframe tbody tr th:only-of-type {\n",
              "        vertical-align: middle;\n",
              "    }\n",
              "\n",
              "    .dataframe tbody tr th {\n",
              "        vertical-align: top;\n",
              "    }\n",
              "\n",
              "    .dataframe thead th {\n",
              "        text-align: right;\n",
              "    }\n",
              "</style>\n",
              "<table border=\"1\" class=\"dataframe\">\n",
              "  <thead>\n",
              "    <tr style=\"text-align: right;\">\n",
              "      <th></th>\n",
              "      <th>Custo por kilograma</th>\n",
              "    </tr>\n",
              "    <tr>\n",
              "      <th>Tipo de produto extrativo</th>\n",
              "      <th></th>\n",
              "    </tr>\n",
              "  </thead>\n",
              "  <tbody>\n",
              "    <tr>\n",
              "      <th>Ipecacuanha ou poaia (raiz)</th>\n",
              "      <td>37.552083</td>\n",
              "    </tr>\n",
              "    <tr>\n",
              "      <th>Balata</th>\n",
              "      <td>17.000000</td>\n",
              "    </tr>\n",
              "    <tr>\n",
              "      <th>Copaíba (óleo)</th>\n",
              "      <td>7.405895</td>\n",
              "    </tr>\n",
              "    <tr>\n",
              "      <th>Cumaru (amêndoa)</th>\n",
              "      <td>6.488684</td>\n",
              "    </tr>\n",
              "    <tr>\n",
              "      <th>Carnaúba (cera)</th>\n",
              "      <td>5.693663</td>\n",
              "    </tr>\n",
              "  </tbody>\n",
              "</table>\n",
              "</div>"
            ],
            "text/plain": [
              "                             Custo por kilograma\n",
              "Tipo de produto extrativo                       \n",
              "Ipecacuanha ou poaia (raiz)            37.552083\n",
              "Balata                                 17.000000\n",
              "Copaíba (óleo)                          7.405895\n",
              "Cumaru (amêndoa)                        6.488684\n",
              "Carnaúba (cera)                         5.693663"
            ]
          },
          "metadata": {
            "tags": []
          },
          "execution_count": 26
        }
      ]
    },
    {
      "cell_type": "markdown",
      "metadata": {
        "id": "Abm9b1CRc4Q6",
        "colab_type": "text"
      },
      "source": [
        "O que vamos fazer agora é um 'join' em duas tabelas. Vamos juntar essa nossa nova tabela junto com a tabela original, sendo que desejo juntá-las pelo campo de 'tipo de produto extrativo."
      ]
    },
    {
      "cell_type": "code",
      "metadata": {
        "id": "UQTFB1PMcqdI",
        "colab_type": "code",
        "colab": {
          "base_uri": "https://localhost:8080/",
          "height": 206
        },
        "outputId": "3c1d47b8-c210-4a27-b6ce-f661e72fb375"
      },
      "source": [
        "# Mesma tabela anterior, somente passo a coluna indice (tipo de produto extrativo) para uma coluna normal\n",
        "df2 = df2.reset_index()\n",
        "df2.head()"
      ],
      "execution_count": 27,
      "outputs": [
        {
          "output_type": "execute_result",
          "data": {
            "text/html": [
              "<div>\n",
              "<style scoped>\n",
              "    .dataframe tbody tr th:only-of-type {\n",
              "        vertical-align: middle;\n",
              "    }\n",
              "\n",
              "    .dataframe tbody tr th {\n",
              "        vertical-align: top;\n",
              "    }\n",
              "\n",
              "    .dataframe thead th {\n",
              "        text-align: right;\n",
              "    }\n",
              "</style>\n",
              "<table border=\"1\" class=\"dataframe\">\n",
              "  <thead>\n",
              "    <tr style=\"text-align: right;\">\n",
              "      <th></th>\n",
              "      <th>Tipo de produto extrativo</th>\n",
              "      <th>Custo por kilograma</th>\n",
              "    </tr>\n",
              "  </thead>\n",
              "  <tbody>\n",
              "    <tr>\n",
              "      <th>0</th>\n",
              "      <td>Ipecacuanha ou poaia (raiz)</td>\n",
              "      <td>37.552083</td>\n",
              "    </tr>\n",
              "    <tr>\n",
              "      <th>1</th>\n",
              "      <td>Balata</td>\n",
              "      <td>17.000000</td>\n",
              "    </tr>\n",
              "    <tr>\n",
              "      <th>2</th>\n",
              "      <td>Copaíba (óleo)</td>\n",
              "      <td>7.405895</td>\n",
              "    </tr>\n",
              "    <tr>\n",
              "      <th>3</th>\n",
              "      <td>Cumaru (amêndoa)</td>\n",
              "      <td>6.488684</td>\n",
              "    </tr>\n",
              "    <tr>\n",
              "      <th>4</th>\n",
              "      <td>Carnaúba (cera)</td>\n",
              "      <td>5.693663</td>\n",
              "    </tr>\n",
              "  </tbody>\n",
              "</table>\n",
              "</div>"
            ],
            "text/plain": [
              "     Tipo de produto extrativo  Custo por kilograma\n",
              "0  Ipecacuanha ou poaia (raiz)            37.552083\n",
              "1                       Balata            17.000000\n",
              "2               Copaíba (óleo)             7.405895\n",
              "3             Cumaru (amêndoa)             6.488684\n",
              "4              Carnaúba (cera)             5.693663"
            ]
          },
          "metadata": {
            "tags": []
          },
          "execution_count": 27
        }
      ]
    },
    {
      "cell_type": "code",
      "metadata": {
        "id": "bnm9TRS5dBp3",
        "colab_type": "code",
        "colab": {
          "base_uri": "https://localhost:8080/",
          "height": 206
        },
        "outputId": "7098122b-042e-42ff-d203-ad81233f05aa"
      },
      "source": [
        "# Crio uma nova tabela somente com as colunas de interesse da minha tabela original\n",
        "df3 = df.loc[:, ['Tipo de Uso', 'Tipo de produto extrativo']]\n",
        "# Remove linhas repetidas\n",
        "df3.drop_duplicates(inplace=True)\n",
        "df3.head()"
      ],
      "execution_count": 43,
      "outputs": [
        {
          "output_type": "execute_result",
          "data": {
            "text/html": [
              "<div>\n",
              "<style scoped>\n",
              "    .dataframe tbody tr th:only-of-type {\n",
              "        vertical-align: middle;\n",
              "    }\n",
              "\n",
              "    .dataframe tbody tr th {\n",
              "        vertical-align: top;\n",
              "    }\n",
              "\n",
              "    .dataframe thead th {\n",
              "        text-align: right;\n",
              "    }\n",
              "</style>\n",
              "<table border=\"1\" class=\"dataframe\">\n",
              "  <thead>\n",
              "    <tr style=\"text-align: right;\">\n",
              "      <th></th>\n",
              "      <th>Tipo de Uso</th>\n",
              "      <th>Tipo de produto extrativo</th>\n",
              "    </tr>\n",
              "  </thead>\n",
              "  <tbody>\n",
              "    <tr>\n",
              "      <th>0</th>\n",
              "      <td>Alimentícios</td>\n",
              "      <td>Açaí (fruto)</td>\n",
              "    </tr>\n",
              "    <tr>\n",
              "      <th>21</th>\n",
              "      <td>Alimentícios</td>\n",
              "      <td>Castanha de cajú</td>\n",
              "    </tr>\n",
              "    <tr>\n",
              "      <th>42</th>\n",
              "      <td>Alimentícios</td>\n",
              "      <td>Castanha-do-Pará</td>\n",
              "    </tr>\n",
              "    <tr>\n",
              "      <th>63</th>\n",
              "      <td>Alimentícios</td>\n",
              "      <td>Erva-mate</td>\n",
              "    </tr>\n",
              "    <tr>\n",
              "      <th>84</th>\n",
              "      <td>Alimentícios</td>\n",
              "      <td>Mangaba</td>\n",
              "    </tr>\n",
              "  </tbody>\n",
              "</table>\n",
              "</div>"
            ],
            "text/plain": [
              "     Tipo de Uso Tipo de produto extrativo\n",
              "0   Alimentícios              Açaí (fruto)\n",
              "21  Alimentícios          Castanha de cajú\n",
              "42  Alimentícios          Castanha-do-Pará\n",
              "63  Alimentícios                 Erva-mate\n",
              "84  Alimentícios                   Mangaba"
            ]
          },
          "metadata": {
            "tags": []
          },
          "execution_count": 43
        }
      ]
    },
    {
      "cell_type": "code",
      "metadata": {
        "id": "u0pex3ktdLIH",
        "colab_type": "code",
        "colab": {
          "base_uri": "https://localhost:8080/",
          "height": 206
        },
        "outputId": "2792f0cf-cae5-4326-87e7-4d74d608f555"
      },
      "source": [
        "# Junto as minhas duas df pela coluna 'Tipo de produto extrativo'\n",
        "df_final = df2.merge(df3, how='left', on='Tipo de produto extrativo')\n",
        "df_final.head()"
      ],
      "execution_count": 44,
      "outputs": [
        {
          "output_type": "execute_result",
          "data": {
            "text/html": [
              "<div>\n",
              "<style scoped>\n",
              "    .dataframe tbody tr th:only-of-type {\n",
              "        vertical-align: middle;\n",
              "    }\n",
              "\n",
              "    .dataframe tbody tr th {\n",
              "        vertical-align: top;\n",
              "    }\n",
              "\n",
              "    .dataframe thead th {\n",
              "        text-align: right;\n",
              "    }\n",
              "</style>\n",
              "<table border=\"1\" class=\"dataframe\">\n",
              "  <thead>\n",
              "    <tr style=\"text-align: right;\">\n",
              "      <th></th>\n",
              "      <th>Tipo de produto extrativo</th>\n",
              "      <th>Custo por kilograma</th>\n",
              "      <th>Tipo de Uso</th>\n",
              "    </tr>\n",
              "  </thead>\n",
              "  <tbody>\n",
              "    <tr>\n",
              "      <th>0</th>\n",
              "      <td>Ipecacuanha ou poaia (raiz)</td>\n",
              "      <td>37.552083</td>\n",
              "      <td>Aromáticos, medicinais, tóxicos e corantes</td>\n",
              "    </tr>\n",
              "    <tr>\n",
              "      <th>1</th>\n",
              "      <td>Balata</td>\n",
              "      <td>17.000000</td>\n",
              "      <td>Gomas não elásticas</td>\n",
              "    </tr>\n",
              "    <tr>\n",
              "      <th>2</th>\n",
              "      <td>Copaíba (óleo)</td>\n",
              "      <td>7.405895</td>\n",
              "      <td>Oleaginosos</td>\n",
              "    </tr>\n",
              "    <tr>\n",
              "      <th>3</th>\n",
              "      <td>Cumaru (amêndoa)</td>\n",
              "      <td>6.488684</td>\n",
              "      <td>Oleaginosos</td>\n",
              "    </tr>\n",
              "    <tr>\n",
              "      <th>4</th>\n",
              "      <td>Carnaúba (cera)</td>\n",
              "      <td>5.693663</td>\n",
              "      <td>Ceras</td>\n",
              "    </tr>\n",
              "  </tbody>\n",
              "</table>\n",
              "</div>"
            ],
            "text/plain": [
              "     Tipo de produto extrativo  ...                                 Tipo de Uso\n",
              "0  Ipecacuanha ou poaia (raiz)  ...  Aromáticos, medicinais, tóxicos e corantes\n",
              "1                       Balata  ...                         Gomas não elásticas\n",
              "2               Copaíba (óleo)  ...                                 Oleaginosos\n",
              "3             Cumaru (amêndoa)  ...                                 Oleaginosos\n",
              "4              Carnaúba (cera)  ...                                       Ceras\n",
              "\n",
              "[5 rows x 3 columns]"
            ]
          },
          "metadata": {
            "tags": []
          },
          "execution_count": 44
        }
      ]
    },
    {
      "cell_type": "code",
      "metadata": {
        "id": "G-NFnu4Pd_tV",
        "colab_type": "code",
        "colab": {}
      },
      "source": [
        ""
      ],
      "execution_count": null,
      "outputs": []
    }
  ]
}